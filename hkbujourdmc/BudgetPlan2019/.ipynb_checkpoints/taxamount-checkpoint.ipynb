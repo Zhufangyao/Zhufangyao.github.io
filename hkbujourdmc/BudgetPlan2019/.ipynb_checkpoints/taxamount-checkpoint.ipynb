{
 "cells": [
  {
   "cell_type": "code",
   "execution_count": 8,
   "metadata": {},
   "outputs": [
    {
     "name": "stdout",
     "output_type": "stream",
     "text": [
      "Current size: [14.0, 8.0]\n",
      "Current size: [14.0, 8.0]\n",
      "Done!\n"
     ]
    }
   ],
   "source": [
    "import numpy as np\n",
    "import matplotlib.pyplot as plt\n",
    "\n",
    "def triangle_wave(x, c0,c1,c2,c3,c4,r0,r1,r2,r3):\n",
    "    if x <= c0:\n",
    "        return x *r0;\n",
    "    elif c0<x<=c1:\n",
    "        return c0* r0 + (x-c0)* r1;\n",
    "    elif c1<x<=c2:\n",
    "        return c0*r0+(c1-c0)*r1+(x-c1)*r1;\n",
    "    elif c2<x<=c3:\n",
    "        return c0*r0+(c1-c0)*r1+(c2-c1)*r1+(x-c2)*r2;\n",
    "    elif c3<x<=c4:\n",
    "        return c0*r0+(c1-c0)*r1+(c2-c1)*r1+(c3-c2)*r2+(x-c3)*r2;\n",
    "    else:\n",
    "        return c0*r0+(c1-c0)*r1+(c2-c1)*r1+(c3-c2)*r2+(c4-c3)*r2+(x-c4)*r3;\n",
    "\n",
    "def triangle_wave2(x, c0,c1,c2,c3,c4,c5,c6,r0,r1,r2,r3,r4):\n",
    "    if x <= c0:\n",
    "        return x *r0;\n",
    "    elif c0<x<=c1:\n",
    "        return c0* r0 + (x-c0)* r1;\n",
    "    elif c1<x<=c2:\n",
    "        return c0*r0+(c1-c0)*r1+(x-c1)*r1;\n",
    "    elif c2<x<=c3:\n",
    "        return c0*r0+(c1-c0)*r1+(c2-c1)*r1+(x-c2)*r2;\n",
    "    elif c3<x<=c4:\n",
    "        return c0*r0+(c1-c0)*r1+(c2-c1)*r1+(c3-c2)*r2+(x-c3)*r2;\n",
    "    elif c4<x<=c5:\n",
    "        return c0*r0+(c1-c0)*r1+(c2-c1)*r1+(c3-c2)*r2+(c4-c3)*r2+(x-c4)*r3;\n",
    "    elif c5<x<=c6:\n",
    "        return c0*r0+(c1-c0)*r1+(c2-c1)*r1+(c3-c2)*r2+(c4-c3)*r2+(c5-c4)*r3+(x-c5)*r3;\n",
    "    else:\n",
    "        return c0*r0+(c1-c0)*r1+(c2-c1)*r1+(c3-c2)*r2+(c4-c3)*r2+(c5-c4)*r3+(c6-c5)*r3+(x-c6)*r4;\n",
    "\n",
    "x = np.linspace(0, 700000, 1000000)\n",
    "\n",
    "y1 = np.array([triangle_wave(t, 40000, 80000, 160000, 200000, 320000, 0.02, 0.07, 0.12, 0.17) for t in x])\n",
    "y2 = np.array([triangle_wave(t, 45000, 90000, 180000, 225000, 355000, 0.02, 0.07, 0.12, 0.17) for t in x])\n",
    "y3 = np.array([triangle_wave2(t, 50000, 100000, 200000, 250000, 400000, 450000, 650000, 0.02, 0.06, 0.1, 0.14, 0.17) for t in x])\n",
    "\n",
    "# plt.style.use('dark_background')\n",
    "plt.rcParams.update({'font.size': 16})\n",
    "plt.figure()\n",
    "plt.plot(x, y1,'xkcd:sky blue',label='2012-2017')\n",
    "plt.plot(x, y2,'y',label='2017-2018')\n",
    "plt.plot(x, y3,'tab:orange',label='2018-2019')\n",
    "plt.ylim(0, 100000)  \n",
    "fig_size = plt.rcParams[\"figure.figsize\"]\n",
    "print(\"Current size:\", fig_size)\n",
    "fig_size[0] = 14.0\n",
    "fig_size[1] = 8.0\n",
    "plt.rcParams[\"figure.figsize\"] = fig_size\n",
    "print(\"Current size:\", fig_size)\n",
    "plt.xlabel(\"\\nAnnual Income (HKD)\")\n",
    "plt.ylabel(\"\\nTax to pay (HKD)\")\n",
    "plt.title(\"\\nHow much tax do you need to pay?\\n from 2012 to 2019\\n\")\n",
    "plt.legend()\n",
    "plt.show()\n",
    "# plt.savefig('tax_light.png') \n",
    "print(\"Done!\")\n",
    "plt.close()"
   ]
  },
  {
   "cell_type": "markdown",
   "metadata": {},
   "source": []
  }
 ],
 "metadata": {
  "kernelspec": {
   "display_name": "Python 3",
   "language": "python",
   "name": "python3"
  },
  "language_info": {
   "codemirror_mode": {
    "name": "ipython",
    "version": 3
   },
   "file_extension": ".py",
   "mimetype": "text/x-python",
   "name": "python",
   "nbconvert_exporter": "python",
   "pygments_lexer": "ipython3",
   "version": "3.7.0"
  }
 },
 "nbformat": 4,
 "nbformat_minor": 2
}
