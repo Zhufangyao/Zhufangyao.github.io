{
 "cells": [
  {
   "cell_type": "code",
   "execution_count": 1,
   "metadata": {},
   "outputs": [
    {
     "name": "stdout",
     "output_type": "stream",
     "text": [
      "Requirement already satisfied: Werkzeug in /anaconda3/lib/python3.7/site-packages (0.15.6)\r\n"
     ]
    }
   ],
   "source": [
    "import sys\n",
    "!pip install Werkzeug"
   ]
  },
  {
   "cell_type": "code",
   "execution_count": 2,
   "metadata": {},
   "outputs": [
    {
     "name": "stdout",
     "output_type": "stream",
     "text": [
      "Requirement already up-to-date: pip in /anaconda3/lib/python3.7/site-packages (19.2.3)\r\n"
     ]
    }
   ],
   "source": [
    "!pip install --upgrade pip"
   ]
  },
  {
   "cell_type": "code",
   "execution_count": 3,
   "metadata": {},
   "outputs": [
    {
     "name": "stdout",
     "output_type": "stream",
     "text": [
      "Requirement already up-to-date: Werkzeug in /anaconda3/lib/python3.7/site-packages (0.15.6)\r\n"
     ]
    }
   ],
   "source": [
    "!pip  install -U Werkzeug"
   ]
  },
  {
   "cell_type": "code",
   "execution_count": 10,
   "metadata": {},
   "outputs": [
    {
     "name": "stderr",
     "output_type": "stream",
     "text": [
      " * Running on http://localhost:9003/ (Press CTRL+C to quit)\n",
      "127.0.0.1 - - [18/Sep/2019 15:38:39] \"GET / HTTP/1.1\" 200 -\n",
      "127.0.0.1 - - [18/Sep/2019 15:38:40] \"GET /album.css HTTP/1.1\" 404 -\n",
      "127.0.0.1 - - [18/Sep/2019 15:38:42] \"GET /aboutus HTTP/1.1\" 200 -\n",
      "127.0.0.1 - - [18/Sep/2019 15:38:42] \"GET /album.css HTTP/1.1\" 404 -\n"
     ]
    }
   ],
   "source": [
    "\n",
    "from werkzeug.wsgi import SharedDataMiddleware\n",
    "from flask import Flask , render_template\n",
    "app = Flask(__name__)\n",
    "@app.route('/')\n",
    "def home():\n",
    "    return render_template ('myhome.html')\n",
    "\n",
    "@app.route('/aboutus')\n",
    "def aboutus():\n",
    "    return render_template ('aboutus.html')\n",
    "\n",
    "if __name__ == '__main__':\n",
    "    from werkzeug.serving import run_simple\n",
    "    run_simple('localhost', 9003, app)\n",
    "\n",
    "\n"
   ]
  },
  {
   "cell_type": "code",
   "execution_count": null,
   "metadata": {},
   "outputs": [
    {
     "name": "stderr",
     "output_type": "stream",
     "text": [
      "/anaconda3/lib/python3.7/site-packages/ipykernel_launcher.py:24: DeprecationWarning: 'werkzeug.wsgi.SharedDataMiddleware' has moved to 'werkzeug.middleware.shared_data.SharedDataMiddleware'. This import is deprecated as of version 0.15 and will be removed in version 1.0.\n",
      " * Running on http://localhost:9003/ (Press CTRL+C to quit)\n",
      "127.0.0.1 - - [18/Sep/2019 15:42:09] \"GET / HTTP/1.1\" 200 -\n",
      "127.0.0.1 - - [18/Sep/2019 15:42:09] \"GET /album.css HTTP/1.1\" 404 -\n",
      "127.0.0.1 - - [18/Sep/2019 15:42:11] \"GET /aboutus HTTP/1.1\" 200 -\n",
      "127.0.0.1 - - [18/Sep/2019 15:42:11] \"GET /album.css HTTP/1.1\" 404 -\n"
     ]
    }
   ],
   "source": [
    "\n",
    "import os\n",
    "from werkzeug.wsgi import SharedDataMiddleware\n",
    "\n",
    "from flask import Flask, render_template \n",
    "\n",
    "app = Flask(__name__)\n",
    "\n",
    "# The following line is only needed for running insdie Jupyter Notebook \n",
    "root_path = os.path.sep.join(app.instance_path.split(os.path.sep)[:-1])\n",
    "\n",
    "@app.route(\"/\") \n",
    "def home():\n",
    "    return render_template('myhome.html')\n",
    "\n",
    "@app.route('/aboutus')\n",
    "def aboutus():\n",
    "    return render_template ('aboutus.html')\n",
    "\n",
    "if __name__ == '__main__':\n",
    "    from werkzeug.serving import run_simple\n",
    "    app.wsgi_app = SharedDataMiddleware(app.wsgi_app, {\n",
    "    '/static': root_path+'/flask_apps/static',\n",
    "    '/templates': root_path+'/flask_apps/templates'\n",
    "        })\n",
    "    run_simple('localhost', 9003, app)"
   ]
  },
  {
   "cell_type": "code",
   "execution_count": null,
   "metadata": {},
   "outputs": [],
   "source": []
  }
 ],
 "metadata": {
  "kernelspec": {
   "display_name": "Python 3",
   "language": "python",
   "name": "python3"
  },
  "language_info": {
   "codemirror_mode": {
    "name": "ipython",
    "version": 3
   },
   "file_extension": ".py",
   "mimetype": "text/x-python",
   "name": "python",
   "nbconvert_exporter": "python",
   "pygments_lexer": "ipython3",
   "version": "3.7.1"
  }
 },
 "nbformat": 4,
 "nbformat_minor": 2
}
